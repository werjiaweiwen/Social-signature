{
 "cells": [
  {
   "cell_type": "markdown",
   "id": "55ec17da",
   "metadata": {},
   "source": [
    "Manwhitney test"
   ]
  },
  {
   "cell_type": "code",
   "execution_count": 17,
   "id": "f2b2a07a",
   "metadata": {},
   "outputs": [
    {
     "name": "stdout",
     "output_type": "stream",
     "text": [
      "Column: N\n",
      "  Mann-Whitney U statistic: 238295740.000, P-value: 0.000\n",
      "  Group 0 - Median: 0.166, Std: 0.102\n",
      "  Group 1 - Median: 0.096, Std: 0.080\n",
      "\n",
      "Column: R\n",
      "  Mann-Whitney U statistic: 233833674.000, P-value: 0.000\n",
      "  Group 0 - Median: 0.260, Std: 0.158\n",
      "  Group 1 - Median: 0.139, Std: 0.129\n",
      "\n",
      "Column: O\n",
      "  Mann-Whitney U statistic: 232674992.000, P-value: 0.000\n",
      "  Group 0 - Median: 0.173, Std: 0.134\n",
      "  Group 1 - Median: 0.078, Std: 0.104\n",
      "\n",
      "Column: K\n",
      "  Mann-Whitney U statistic: 233754032.000, P-value: 0.000\n",
      "  Group 0 - Median: 0.136, Std: 0.114\n",
      "  Group 1 - Median: 0.064, Std: 0.084\n",
      "\n",
      "Column: M\n",
      "  Mann-Whitney U statistic: 192869996.000, P-value: 0.000\n",
      "  Group 0 - Median: 0.007, Std: 0.038\n",
      "  Group 1 - Median: 0.004, Std: 0.033\n",
      "\n",
      "Column: T\n",
      "  Mann-Whitney U statistic: 213278566.000, P-value: 0.000\n",
      "  Group 0 - Median: 0.140, Std: 0.135\n",
      "  Group 1 - Median: 0.083, Std: 0.109\n",
      "\n",
      "Column: MU\n",
      "  Mann-Whitney U statistic: 204195306.000, P-value: 0.000\n",
      "  Group 0 - Median: 0.324, Std: 0.152\n",
      "  Group 1 - Median: 0.186, Std: 0.146\n",
      "\n",
      "Column: A\n",
      "  Mann-Whitney U statistic: 230708068.000, P-value: 0.000\n",
      "  Group 0 - Median: 0.183, Std: 0.140\n",
      "  Group 1 - Median: 0.088, Std: 0.110\n",
      "\n"
     ]
    }
   ],
   "source": [
    "import pandas as pd\n",
    "from scipy.stats import mannwhitneyu\n",
    "\n",
    "file_path = 'G:\\\\data_all\\\\mathoverflow_c2q\\\\all_data.xlsx'\n",
    "df = pd.read_excel(file_path)\n",
    "\n",
    "group_0 = df[df['leibie'] == 0]\n",
    "group_1 = df[df['leibie'] == 1]\n",
    "\n",
    "columns_to_test = ['N', 'R', 'O','K', 'M', 'T','MU', 'A']  \n",
    "#columns_to_test = ['N', 'R', 'O','K', 'T','MU', 'A'] \n",
    "\n",
    "# Perform the Manwhitney test for each column and calculate the median and standard deviation\n",
    "results = []\n",
    "for column_name in columns_to_test:\n",
    "    data_0 = group_0[column_name]\n",
    "    data_1 = group_1[column_name]\n",
    "    \n",
    "   # Perform the Manwhitney U test\n",
    "    u_statistic, p_value = mannwhitneyu(data_0, data_1, alternative='two-sided')\n",
    "    \n",
    "    # Calculate the median and standard deviation\n",
    "    median_0 = round(data_0.median(), 3)\n",
    "    std_0 = round(data_0.std(), 3)\n",
    "    median_1 = round(data_1.median(), 3)\n",
    "    std_1 = round(data_1.std(), 3)\n",
    "    \n",
    "    u_statistic = round(u_statistic, 3)\n",
    "    p_value = round(p_value, 3)\n",
    "    \n",
    "    results.append((column_name, u_statistic, p_value, median_0, std_0, median_1, std_1))\n",
    "    \n",
    "# Output result\n",
    "for column_name, u_statistic, p_value, median_0, std_0, median_1, std_1 in results:\n",
    "    print(f'Column: {column_name}')\n",
    "    print(f'  Mann-Whitney U statistic: {u_statistic:.3f}, P-value: {p_value:.3f}')\n",
    "    print(f'  Group 0 - Median: {median_0:.3f}, Std: {std_0:.3f}')\n",
    "    print(f'  Group 1 - Median: {median_1:.3f}, Std: {std_1:.3f}')\n",
    "    print()"
   ]
  },
  {
   "cell_type": "markdown",
   "id": "004f89fd",
   "metadata": {},
   "source": [
    "The time stability data is calculated in the sorting case"
   ]
  },
  {
   "cell_type": "code",
   "execution_count": 15,
   "id": "cd22f015",
   "metadata": {},
   "outputs": [
    {
     "name": "stderr",
     "output_type": "stream",
     "text": [
      "C:\\Users\\Administrator\\AppData\\Local\\Temp/ipykernel_115628/613083315.py:37: SettingWithCopyWarning: \n",
      "A value is trying to be set on a copy of a slice from a DataFrame.\n",
      "Try using .loc[row_indexer,col_indexer] = value instead\n",
      "\n",
      "See the caveats in the documentation: https://pandas.pydata.org/pandas-docs/stable/user_guide/indexing.html#returning-a-view-versus-a-copy\n",
      "  df_group['mean'] = df_group.mean(axis=1)\n"
     ]
    },
    {
     "name": "stdout",
     "output_type": "stream",
     "text": [
      "rankT1_combined 文件已成功保存。\n",
      "rankT2_combined 文件已成功保存。\n",
      "rankT3_combined 文件已成功保存。\n",
      "rankT4_combined 文件已成功保存。\n",
      "rankT5_combined 文件已成功保存。\n"
     ]
    }
   ],
   "source": [
    "import pandas as pd\n",
    "\n",
    "# 定义文件夹名称列表\n",
    "folders = ['N', 'R', 'O', 'K', 'M', 'T', 'MU', 'A']\n",
    "\n",
    "# 定义每组的列名\n",
    "group_1 = [12, 21, 23, 32, 34, 43, 45, 54, 56, 65]  \n",
    "group_2 = [13, 24, 31, 35, 42, 46, 53, 64]\n",
    "group_3 = [14, 25, 36, 41, 52, 63]\n",
    "group_4 = [15, 26, 51, 62]\n",
    "group_5 = [16, 61]\n",
    "\n",
    "# 将每组数据分开并计算每行的平均值\n",
    "groups = [group_1, group_2, group_3, group_4, group_5]\n",
    "group_names = ['rankT1', 'rankT2', 'rankT3', 'rankT4', 'rankT5']\n",
    "\n",
    "# 初始化字典，用于存储每个group的数据框列表\n",
    "group_dfs = {name: [] for name in group_names}\n",
    "\n",
    "# 处理每个文件夹中的文件\n",
    "for folder in folders:\n",
    "    # 读取Excel文件\n",
    "    file_path = f'G:\\\\data_all\\\\mathoverflow_c2q\\\\{folder}\\\\recognition_results.xlsx'\n",
    "    df = pd.read_excel(file_path)\n",
    "    \n",
    "    for group, name in zip(groups, group_names):\n",
    "        # 检查列名是否存在\n",
    "        missing_columns = [col for col in group if col not in df.columns]\n",
    "        if missing_columns:\n",
    "            print(f\"Columns {missing_columns} are not in the dataframe for group {name} in folder {folder}.\")\n",
    "            continue\n",
    "        \n",
    "        # 选择对应列\n",
    "        df_group = df[group]\n",
    "        \n",
    "        # 计算每行的平均值并添加到最后一列\n",
    "        df_group['mean'] = df_group.mean(axis=1)\n",
    "        \n",
    "        # 保存到新的Excel文件\n",
    "        file_name = f'G:\\\\data_all\\\\mathoverflow_c2q\\\\{folder}\\\\{name}.xlsx'\n",
    "        df_group.to_excel(file_name, index=False)\n",
    "        \n",
    "        # 将处理后的数据框添加到对应group的列表中\n",
    "        group_dfs[name].append(df_group)\n",
    "    \n",
    "# 拼接每个group的数据框并保存\n",
    "for name, dfs in group_dfs.items():\n",
    "    if dfs:\n",
    "        df_concat = pd.concat(dfs, axis=1)\n",
    "        concat_file_path = f'G:\\\\data_all\\\\mathoverflow_c2q\\\\{name}_combined.xlsx'\n",
    "        df_concat.to_excel(concat_file_path, index=False)\n",
    "        print(f\"{name}_combined 文件已成功保存。\")"
   ]
  },
  {
   "cell_type": "code",
   "execution_count": null,
   "id": "7d7b7f54",
   "metadata": {},
   "outputs": [],
   "source": []
  }
 ],
 "metadata": {
  "kernelspec": {
   "display_name": "Python 3 (ipykernel)",
   "language": "python",
   "name": "python3"
  },
  "language_info": {
   "codemirror_mode": {
    "name": "ipython",
    "version": 3
   },
   "file_extension": ".py",
   "mimetype": "text/x-python",
   "name": "python",
   "nbconvert_exporter": "python",
   "pygments_lexer": "ipython3",
   "version": "3.9.7"
  }
 },
 "nbformat": 4,
 "nbformat_minor": 5
}
